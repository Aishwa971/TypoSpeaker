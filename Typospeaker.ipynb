{
 "cells": [
  {
   "cell_type": "code",
   "execution_count": 1,
   "id": "d8e03212-f603-4972-a034-a2745a278778",
   "metadata": {},
   "outputs": [
    {
     "name": "stdout",
     "output_type": "stream",
     "text": [
      "Welcome to RoboSpeakear 1.1 created by aishu\n"
     ]
    },
    {
     "name": "stdin",
     "output_type": "stream",
     "text": [
      "Enter what you want me to Speak: hello\n",
      "Enter what you want me to Speak: quit\n"
     ]
    }
   ],
   "source": [
    "import os\n",
    "import pyttsx3\n",
    "\n",
    "if __name__=='__main__':\n",
    "    print(\"Welcome to RoboSpeakear 1.1 created by aishu\")\n",
    "    while True:\n",
    "        x=input(\"Enter what you want me to Speak:\")\n",
    "        if x=='quit':\n",
    "            break\n",
    "        engine=pyttsx3.init()\n",
    "        engine.say(x)\n",
    "        engine.runAndWait()\n"
   ]
  },
  {
   "cell_type": "code",
   "execution_count": null,
   "id": "d8422315-002f-4747-bbc1-8a064a5890ea",
   "metadata": {},
   "outputs": [],
   "source": []
  }
 ],
 "metadata": {
  "kernelspec": {
   "display_name": "Python 3 (ipykernel)",
   "language": "python",
   "name": "python3"
  },
  "language_info": {
   "codemirror_mode": {
    "name": "ipython",
    "version": 3
   },
   "file_extension": ".py",
   "mimetype": "text/x-python",
   "name": "python",
   "nbconvert_exporter": "python",
   "pygments_lexer": "ipython3",
   "version": "3.12.4"
  }
 },
 "nbformat": 4,
 "nbformat_minor": 5
}
